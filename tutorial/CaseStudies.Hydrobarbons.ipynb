{
 "metadata": {
  "language_info": {
   "codemirror_mode": {
    "name": "ipython",
    "version": 3
   },
   "file_extension": ".py",
   "mimetype": "text/x-python",
   "name": "python",
   "nbconvert_exporter": "python",
   "pygments_lexer": "ipython3",
   "version": "3.7.9"
  },
  "orig_nbformat": 4,
  "kernelspec": {
   "name": "python3",
   "display_name": "Python 3.7.9 64-bit"
  },
  "interpreter": {
   "hash": "fd69f43f58546b570e94fd7eba7b65e6bcc7a5bbc4eab0408017d18902915d69"
  }
 },
 "nbformat": 4,
 "nbformat_minor": 2,
 "cells": [
  {
   "source": [
    "# Case Studies: Creating LAMMPS Simulations of Hydrocarbon polymers\n",
    "\n",
    "In this example, we use NNMDKit to create LAMMPS data and input files for molecular dynamics (MD) simulations of hydrocarbon polymers. We focus only on hydrocarbon polymers at this stage because our neural network force field was trained against mostly hydrocarbon polymeric systems  (thanks to **Christopher Kuenneth** for developing the force field!)\n",
    "\n",
    "\n",
    "## Step 1: Importing NNMDKit and defining SMILES strings"
   ],
   "cell_type": "markdown",
   "metadata": {}
  },
  {
   "cell_type": "code",
   "execution_count": 1,
   "metadata": {},
   "outputs": [],
   "source": [
    "import nnmdkit\n",
    "\n",
    "smiles = [\n",
    "    '*CC*', '*CC(*)C', '*CC(*)CC', '*CC(*)CCC', '*CC(*)CCCC', '*CC(*)c1ccccc1'\n",
    "]"
   ]
  },
  {
   "source": [
    "First, NNMDKit should be able to imported if it's installed correctly. Secondly, we put SMILES strings of polymers of interest into a list, which we can later loop over to create input files and folders for each polymeric system."
   ],
   "cell_type": "markdown",
   "metadata": {}
  },
  {
   "source": [
    "## Step 2: Creating `System` objects and corresponding LAMMPS data files"
   ],
   "cell_type": "markdown",
   "metadata": {}
  },
  {
   "cell_type": "code",
   "execution_count": 2,
   "metadata": {},
   "outputs": [],
   "source": [
    "for s in smiles:\n",
    "    sys = nnmdkit.System(smiles=s, mw=1000, ntotal=3000, density=0.85)\n",
    "    data = sys.write_data(output_dir=s)\n"
   ]
  },
  {
   "source": [
    "For each system/SMILES string, we initialize a `System` object, and for each `System`, four attributes have to be defined, including:\n",
    "- `smiles` - polymer SMILES string (use * as repeat unit connecting points)\n",
    "- `mw` - Polymer molecular weight\n",
    "- `ntotal` - Total number of atoms\n",
    "- `density` - Initial density of the system ($g/cm^3$)\n",
    "\n",
    "Here, SMILES strings are provided through looping over the list defined in the first step; molecular weight and total number of atoms are chosen as 1000 and 3000, respectively; initial density is set to $0.85g/cm^3$ which is the density of polyethlyene observed from previous MD simulations.\n",
    "\n",
    "After `System`'s are defined, we call the `write_data` function with the output directory (`output_dir`) specified to create the LAMMPS data file for each system. Here, we name each folder with the system's SMILES string. We will later put all necessary files for a LAMMPS run to the same folder. Note that the `write_data` function returns the data file name, which is fetched by `data` in this example. This `data` string will later be used to initialize `LAMMPS` objects.\n",
    "\n",
    "NNMDKit currently uses EMC package to generate initial polymer amorphous structures. Representative snapshots of inital structures are shown below\n",
    "\n",
    "<p align=\"center\">\n",
    "    <img src='./img/Example_snapshots.png' width=\"60%\"/>\n",
    "</p>"
   ],
   "cell_type": "markdown",
   "metadata": {}
  },
  {
   "source": [
    "## Step 3: Creating `Lammps` objects and corresponding LAMMPS input files"
   ],
   "cell_type": "markdown",
   "metadata": {}
  },
  {
   "cell_type": "code",
   "execution_count": null,
   "metadata": {},
   "outputs": [],
   "source": [
    "Tmax = 800\n",
    "Pmax = 100\n",
    "Tfinal = 300\n",
    "Pfinal = 1\n",
    "\n",
    "eq_step = [\n",
    "    ['nvt', 50000, Tmax],\n",
    "    ['npt', 50000, Tfinal, Pmax],\n",
    "    ['npt', 50000, Tfinal, Pfinal],\n",
    "    ['nvt', 50000, Tmax],\n",
    "    ['npt', 50000, Tfinal, Pmax],\n",
    "    ['npt', 50000, Tfinal, Pfinal],\n",
    "    ['nvt', 50000, Tmax],\n",
    "    ['npt', 50000, Tfinal, Pmax],\n",
    "    ['npt', 50000, Tfinal, Pfinal]\n",
    "]"
   ]
  },
  {
   "source": [
    "We first define a list named `eq_step` that specify equilibration procedure which will be discussed below.\n",
    "In this example, a 9-step equilibration procedure is used:\n",
    "\n",
    "1. 50 ps NVT simulation at 800 K\n",
    "2. 50 ps NPT simulation at 400 K and 100 bar\n",
    "3. 50 ps NPT simulation at 400 K and 1 bar\n",
    "4. 50 ps NVT simulation at 800 K\n",
    "5. 50 ps NPT simulation at 400 K and 100 bar\n",
    "6. 50 ps NPT simulation at 400 K and 1 bar\n",
    "7. 50 ps NVT simulation at 800 K\n",
    "8. 50 ps NPT simulation at 400 K and 100 bar\n",
    "9. 50 ps NPT simulation at 400 K and 1 bar"
   ],
   "cell_type": "markdown",
   "metadata": {}
  },
  {
   "cell_type": "code",
   "execution_count": 3,
   "metadata": {},
   "outputs": [],
   "source": [
    "for s in smiles:\n",
    "    lmp = nnmdkit.Lammps(data_fname=data, NN_POTENTIAL='potential_saved')\n",
    "    lmp.add_procedure('equilibration', eq_step=eq_step)\n",
    "    lmp.add_procedure('Tg_measurement', Tinit=400, Tfinal=100, Tinterval=20, step=100000)\n",
    "    lmp.write_input(output_dir=s)"
   ]
  },
  {
   "source": [
    "Then, for each system, we initialize a `Lammps` object, and the following attributes are defined:\n",
    "- `data_fname` - name of the LAMMPS data file\n",
    "- `NN_POTENTIAL` - name of the neural network parameter file\n",
    "- `atom_style` (*optional*) - argument of [LAMMPS atom_style](https://docs.lammps.org/atom_style.html); default: 'full'\n",
    "- `units` (*optional*) - argument of [LAMMPS units](https://docs.lammps.org/units.html); default: 'metal'\n",
    "- `timestep` (*optional*) - argument of [LAMMPS timestep](https://docs.lammps.org/timestep.html); default: 0.001\n",
    "- `neighbor_skin` (*optional*) - argument of [LAMMPS neighbor](https://docs.lammps.org/neighbor.html); default: 2.0\n",
    "- `neighbor_every` (*optional*) - argument of [LAMMPS neighbor_modify](https://docs.lammps.org/neigh_modify.html); default: 1\n",
    "- `thermo` (*optional*) - argument of [LAMMPS thermo](https://docs.lammps.org/thermo.html); default: 100,\n",
    "- `pair_style` (*optional*) - argument of [LAMMPS pair_style](https://docs.lammps.org/pair_style.html); default: `'nn'`\n",
    "- `element` (*optional*) - a string of the list of elements in the system; default: `'C H'`\n",
    "\n",
    "Once the `Lammps` object is defined. We can add simulation procedures by using the `add_procedure` function. Here, we add two procedures: `'equilibration'` and `'Tg_measurement'`. \n",
    "\n",
    "For `'equilibration'`, we specify equilibration steps by defining a list `eq_step` on top. Each equilibration step is defined as a list within the `eq_step` list. Several things have to be specified in order in each step/list: \n",
    "\n",
    "1. `nvt` or `npt` ensemble\n",
    "2. Duration of the step\n",
    "3. Temperature\n",
    "4. Pressure if `npt` is selected\n",
    "\n",
    "For `'Tg_measurement'`, we specify several properties:\n",
    "\n",
    "- `Tinit` - Initial temperature of the cooling process\n",
    "- `Tfinal` - Final temperature of the cooling process\n",
    "- `Tinterval` - Temperature interval\n",
    "- `step` - Simulation duration of each temperature step\n",
    "\n",
    "In this example, we started the simulations from 400 K and performed 0.1 ns NPT MD simulations at every 20 K step until 100 K. System density is calculated at every temperature step and a text file `temp_vs_density` will be produced with all density recorded at each temperature step."
   ],
   "cell_type": "markdown",
   "metadata": {}
  },
  {
   "source": [
    "## Step 4: Creating `Job` objects and corresponding pbs files"
   ],
   "cell_type": "markdown",
   "metadata": {}
  },
  {
   "cell_type": "code",
   "execution_count": 4,
   "metadata": {},
   "outputs": [],
   "source": [
    "for s in smiles:\n",
    "    job = nnmdkit.Job(jobname=s,\n",
    "                      project='GT-rramprasad3-CODA20',\n",
    "                      nodes=3,\n",
    "                      ppn=24,\n",
    "                      walltime='96:00:00',\n",
    "                      LAMMPS_EXEC='~/p-rramprasad3-0/NNLMP/lmp')\n",
    "    job.write_pbs(output_dir=s)"
   ]
  },
  {
   "source": [
    "For each system, we initialize a `Job` object, and the following attributes are defined:\n",
    " - `jobname` - Job name\n",
    " - `project` - Project name to which resource is charged\n",
    " - `nodes` - Number of nodes\n",
    " - `ppn` - Number of processors\n",
    " - `walltime` - Maximum run time\n",
    " - `LAMMPS_EXEC` - Directory of the LAMMPS executable file (with `pair_style nn` registered)\n",
    "\n",
    "After job objects are defined, we can generate pbs files with output directory specified. With these pbs files, we submit jobs on supercomputers.\n",
    "\n",
    "# Outcome\n",
    "This example script prepares you all LAMMPS data and input files needed to run MD simulations and measure glass transition temperature of six basic hydrocarbon polymers. Files for each system are put into folders named by their polymer SMILES strings as shown below:\n",
    "\n",
    "<p align=\"center\">\n",
    "    <img src='./img/Tutorial_outcome.png' width=\"15%\"/>\n",
    "</p>"
   ],
   "cell_type": "markdown",
   "metadata": {}
  }
 ]
}