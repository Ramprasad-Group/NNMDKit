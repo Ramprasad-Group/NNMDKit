{
 "metadata": {
  "language_info": {
   "codemirror_mode": {
    "name": "ipython",
    "version": 3
   },
   "file_extension": ".py",
   "mimetype": "text/x-python",
   "name": "python",
   "nbconvert_exporter": "python",
   "pygments_lexer": "ipython3",
   "version": "3.7.9"
  },
  "orig_nbformat": 4,
  "kernelspec": {
   "name": "python3",
   "display_name": "Python 3.7.9 64-bit"
  },
  "interpreter": {
   "hash": "fd69f43f58546b570e94fd7eba7b65e6bcc7a5bbc4eab0408017d18902915d69"
  }
 },
 "nbformat": 4,
 "nbformat_minor": 2,
 "cells": [
  {
   "source": [
    "# Case Studies: Creating LAMMPS Simulations of Hydrocarbon polymers\n",
    "\n",
    "In this example, we use NNMDKit to create LAMMPS data and input files for molecular dynamics (MD) simulations of hydrocarbon polymers. We focus only on hydrocarbon polymers at this stage because our neural network force field was trained against mostly hydrocarbon polymeric systems  (thanks to Christopher Kuenneth for developing the force field!)\n",
    "\n",
    "\n",
    "## Step 1: Importing NNMDKit and defining SMILES strings"
   ],
   "cell_type": "markdown",
   "metadata": {}
  },
  {
   "cell_type": "code",
   "execution_count": null,
   "metadata": {},
   "outputs": [],
   "source": [
    "import nnmdkit\n",
    "\n",
    "smiles = [\n",
    "    '*CC*', '*CC(*)C', '*CC(*)CC', '*CC(*)CCC', '*CC(*)CCCC', '*CC(*)c1ccccc1'\n",
    "]"
   ]
  },
  {
   "source": [
    "First, NNMDKit should be able to imported if it's installed correctly. Secondly, we put SMILES strings of polymers of interest into a list, which we can later loop over to create input files and folders for each polymeric system."
   ],
   "cell_type": "markdown",
   "metadata": {}
  },
  {
   "source": [
    "## Step 2: Creating `System` objects and corresponding LAMMPS data files"
   ],
   "cell_type": "markdown",
   "metadata": {}
  },
  {
   "cell_type": "code",
   "execution_count": null,
   "metadata": {},
   "outputs": [],
   "source": [
    "for s in smiles:\n",
    "    sys = nnmdkit.System(smiles=s, mw=1000, ntotal=3000, density=0.85)\n",
    "    data = sys.write_data(output_dir=s)\n"
   ]
  },
  {
   "source": [
    "For each system/SMILES string, we initialize a `System` object, and for each `System`, four attributes have to be defined, including:\n",
    "- `smiles` - polymer SMILES string\n",
    "- `mw` - Polymer molecular weight\n",
    "- `ntotal` - Total number of atoms\n",
    "- `density` - Initial density of the system ($g/cm^3$)\n",
    "\n",
    "Here, SMILES strings are provided through looping over the list defined in the first step; molecular weight and total number of atoms are chosen as 1000 and 3000, respectively; initial density is set to $0.85g/cm^3$ which is the density of polyethlyene observed from previous MD simulations.\n",
    "\n",
    "After `System`'s are defined, we call the `write_data` function with the output directory (`output_dir`) specified to create the LAMMPS data file for each system. Here, we name each folder with the system's SMILES string. We will later put all necessary files for a LAMMPS run to the same folder. Note that the `write_data` function returns the data file name, which is fetched by `data` in this example. This `data` string will later be used to initialize `LAMMPS` objects."
   ],
   "cell_type": "markdown",
   "metadata": {}
  },
  {
   "source": [
    "## Step 3: Creating `Lammps` objects and corresponding LAMMPS input files"
   ],
   "cell_type": "markdown",
   "metadata": {}
  },
  {
   "cell_type": "code",
   "execution_count": null,
   "metadata": {},
   "outputs": [],
   "source": [
    "Tmax = 800\n",
    "Pmax = 100\n",
    "Tfinal = 300\n",
    "Pfinal = 1\n",
    "\n",
    "eq_step = [\n",
    "    ['nvt', 50000, Tmax],\n",
    "    ['npt', 50000, Tfinal, Pmax],\n",
    "    ['npt', 50000, Tfinal, Pfinal],\n",
    "    ['nvt', 50000, Tmax],\n",
    "    ['npt', 50000, Tfinal, Pmax],\n",
    "    ['npt', 50000, Tfinal, Pfinal],\n",
    "    ['nvt', 50000, Tmax],\n",
    "    ['npt', 50000, Tfinal, Pmax],\n",
    "    ['npt', 50000, Tfinal, Pfinal]\n",
    "]\n",
    "\n",
    "for s in smiles:\n",
    "    lmp = nnmdkit.Lammps(data, NN_POTENTIAL='potential_saved')\n",
    "    lmp.add_procedure('minimization', min_style='cg')\n",
    "    lmp.add_procedure('equilibration', eq_step=eq_step)\n",
    "    lmp.add_procedure('Tg_measurement', Tinit=400, Tfinal=100, Tinterval=20, step=100000)\n",
    "    lmp.write_input(output_dir=s)"
   ]
  },
  {
   "source": [
    "For each system, we initialize a `Lammps` object"
   ],
   "cell_type": "markdown",
   "metadata": {}
  },
  {
   "source": [
    "## Step 4: Creating `Job` objects and corresponding pbs files"
   ],
   "cell_type": "markdown",
   "metadata": {}
  },
  {
   "cell_type": "code",
   "execution_count": null,
   "metadata": {},
   "outputs": [],
   "source": [
    "for s in smiles:\n",
    "    job = nnmdkit.Job(jobname=s,\n",
    "                      project='GT-rramprasad3-CODA20',\n",
    "                      nodes=2,\n",
    "                      ppn=24,\n",
    "                      walltime='48:00:00',\n",
    "                      LAMMPS_EXEC='~/p-rramprasad3-0/NNLMP/lmp')\n",
    "    job.write_pbs(output_dir=s)"
   ]
  }
 ]
}